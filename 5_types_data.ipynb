{
  "nbformat": 4,
  "nbformat_minor": 0,
  "metadata": {
    "colab": {
      "name": "5_types_data.ipynb",
      "provenance": []
    },
    "kernelspec": {
      "name": "python3",
      "display_name": "Python 3"
    }
  },
  "cells": [
    {
      "cell_type": "markdown",
      "metadata": {
        "id": "z-yTJ10eIrQ3"
      },
      "source": [
        "**Types of Data**\n",
        "1. **Categorical Data**  - Categorical variables represent types of data which may be divided into groups. Examples of categorical variables are race, sex, age group, and educational level. \n",
        "\n",
        "*   Nominal\n",
        "*   Ordinal\n",
        "\n",
        "2. **Numerical Data** - nformation that is something that is measurable. It is always collected in number form, although there are other types of data that can appear in number form.\n",
        "*   Discrete\n",
        "*   continuous\n",
        "\n"
      ]
    },
    {
      "cell_type": "code",
      "metadata": {
        "id": "TBPBFGrFRlw-"
      },
      "source": [
        "#importing libraries\n",
        "import numpy as np\n",
        "import pandas as pd\n",
        "import matplotlib.pyplot as plt\n",
        "%matplotlib inline"
      ],
      "execution_count": null,
      "outputs": []
    },
    {
      "cell_type": "markdown",
      "metadata": {
        "id": "PsIV4K6iSBSs"
      },
      "source": [
        "**Discrete varaible** -  countable in a finite amount of time. For example, you can count the change in your pocket."
      ]
    },
    {
      "cell_type": "code",
      "metadata": {
        "id": "l2vnUAplR5k0",
        "outputId": "989f46b4-5221-41a5-e17f-1be1a30b3263",
        "colab": {
          "base_uri": "https://localhost:8080/",
          "height": 34
        }
      },
      "source": [
        "np.unique(np.random.randint(0,4,100))"
      ],
      "execution_count": null,
      "outputs": [
        {
          "output_type": "execute_result",
          "data": {
            "text/plain": [
              "array([0, 1, 2, 3])"
            ]
          },
          "metadata": {
            "tags": []
          },
          "execution_count": 21
        }
      ]
    },
    {
      "cell_type": "code",
      "metadata": {
        "id": "mxvQrnNwSVdM",
        "outputId": "4ce4fb21-8088-43d2-84d5-5282c5960361",
        "colab": {
          "base_uri": "https://localhost:8080/",
          "height": 315
        }
      },
      "source": [
        "plt.hist(np.random.randint(0,4,100))"
      ],
      "execution_count": null,
      "outputs": [
        {
          "output_type": "execute_result",
          "data": {
            "text/plain": [
              "(array([22.,  0.,  0., 22.,  0.,  0., 28.,  0.,  0., 28.]),\n",
              " array([0. , 0.3, 0.6, 0.9, 1.2, 1.5, 1.8, 2.1, 2.4, 2.7, 3. ]),\n",
              " <a list of 10 Patch objects>)"
            ]
          },
          "metadata": {
            "tags": []
          },
          "execution_count": 11
        },
        {
          "output_type": "display_data",
          "data": {
            "image/png": "[encoded data removed]",
            "text/plain": [
              "<Figure size 432x288 with 1 Axes>"
            ]
          },
          "metadata": {
            "tags": [],
            "needs_background": "light"
          }
        }
      ]
    },
    {
      "cell_type": "markdown",
      "metadata": {
        "id": "HTm71u-6SmTv"
      },
      "source": [
        "**Continuous variable** - would (literally) take forever to count. In fact, you would get to “forever” and never finish counting them. For example, take age. You can’t count “age”."
      ]
    },
    {
      "cell_type": "code",
      "metadata": {
        "id": "go1sppYVSlns",
        "outputId": "26e9b8e7-d5fb-4d0a-8c01-87bc74557b78",
        "colab": {
          "base_uri": "https://localhost:8080/",
          "height": 34
        }
      },
      "source": [
        "import scipy.stats as stats\n",
        "#means and Standard deviation\n",
        "mu = 20\n",
        "sigma = 2\n",
        "#normal distribution\n",
        "h = sorted(np.random.normal(mu, sigma, 100))\n",
        "\n",
        "#verification\n",
        "abs(20 - np.mean(h)) < 2"
      ],
      "execution_count": null,
      "outputs": [
        {
          "output_type": "execute_result",
          "data": {
            "text/plain": [
              "True"
            ]
          },
          "metadata": {
            "tags": []
          },
          "execution_count": 12
        }
      ]
    },
    {
      "cell_type": "code",
      "metadata": {
        "id": "P3x4QPzOZX4J",
        "outputId": "a9f37f49-e8c3-4d73-9b7c-6122c4c71c90",
        "colab": {
          "base_uri": "https://localhost:8080/",
          "height": 450
        }
      },
      "source": [
        "plt.hist(h,30)"
      ],
      "execution_count": null,
      "outputs": [
        {
          "output_type": "execute_result",
          "data": {
            "text/plain": [
              "(array([ 1.,  0.,  2.,  1.,  2.,  3.,  2.,  2.,  3.,  2.,  5.,  5.,  6.,\n",
              "        10.,  4.,  2., 10.,  4.,  4.,  2.,  7.,  4.,  3.,  5.,  3.,  3.,\n",
              "         1.,  1.,  1.,  2.]),\n",
              " array([14.82343614, 15.15507305, 15.48670997, 15.81834688, 16.1499838 ,\n",
              "        16.48162071, 16.81325763, 17.14489454, 17.47653146, 17.80816837,\n",
              "        18.13980529, 18.4714422 , 18.80307912, 19.13471603, 19.46635295,\n",
              "        19.79798986, 20.12962677, 20.46126369, 20.7929006 , 21.12453752,\n",
              "        21.45617443, 21.78781135, 22.11944826, 22.45108518, 22.78272209,\n",
              "        23.11435901, 23.44599592, 23.77763284, 24.10926975, 24.44090666,\n",
              "        24.77254358]),\n",
              " <a list of 30 Patch objects>)"
            ]
          },
          "metadata": {
            "tags": []
          },
          "execution_count": 18
        },
        {
          "output_type": "display_data",
          "data": {
            "image/png": "[encoded data removed]",
            "text/plain": [
              "<Figure size 432x288 with 1 Axes>"
            ]
          },
          "metadata": {
            "tags": [],
            "needs_background": "light"
          }
        }
      ]
    },
    {
      "cell_type": "markdown",
      "metadata": {
        "id": "HxJXmbGBbZud"
      },
      "source": [
        "**Categorical data**"
      ]
    },
    {
      "cell_type": "code",
      "metadata": {
        "id": "3ToQc69NbcZl",
        "outputId": "9d450b35-a344-45c7-f33b-33eb5fb58fd3",
        "colab": {
          "base_uri": "https://localhost:8080/",
          "height": 314
        }
      },
      "source": [
        "data = pd.DataFrame({'juices':['a','a','a','b','b','b','c','c','c'], 'quanity':[4,3,12,6,7.5,8,3,5,6]})\n",
        "data"
      ],
      "execution_count": null,
      "outputs": [
        {
          "output_type": "execute_result",
          "data": {
            "text/html": [
              "<div>\n",
              "<style scoped>\n",
              "    .dataframe tbody tr th:only-of-type {\n",
              "        vertical-align: middle;\n",
              "    }\n",
              "\n",
              "    .dataframe tbody tr th {\n",
              "        vertical-align: top;\n",
              "    }\n",
              "\n",
              "    .dataframe thead th {\n",
              "        text-align: right;\n",
              "    }\n",
              "</style>\n",
              "<table border=\"1\" class=\"dataframe\">\n",
              "  <thead>\n",
              "    <tr style=\"text-align: right;\">\n",
              "      <th></th>\n",
              "      <th>juices</th>\n",
              "      <th>quanity</th>\n",
              "    </tr>\n",
              "  </thead>\n",
              "  <tbody>\n",
              "    <tr>\n",
              "      <th>0</th>\n",
              "      <td>a</td>\n",
              "      <td>4.0</td>\n",
              "    </tr>\n",
              "    <tr>\n",
              "      <th>1</th>\n",
              "      <td>a</td>\n",
              "      <td>3.0</td>\n",
              "    </tr>\n",
              "    <tr>\n",
              "      <th>2</th>\n",
              "      <td>a</td>\n",
              "      <td>12.0</td>\n",
              "    </tr>\n",
              "    <tr>\n",
              "      <th>3</th>\n",
              "      <td>b</td>\n",
              "      <td>6.0</td>\n",
              "    </tr>\n",
              "    <tr>\n",
              "      <th>4</th>\n",
              "      <td>b</td>\n",
              "      <td>7.5</td>\n",
              "    </tr>\n",
              "    <tr>\n",
              "      <th>5</th>\n",
              "      <td>b</td>\n",
              "      <td>8.0</td>\n",
              "    </tr>\n",
              "    <tr>\n",
              "      <th>6</th>\n",
              "      <td>c</td>\n",
              "      <td>3.0</td>\n",
              "    </tr>\n",
              "    <tr>\n",
              "      <th>7</th>\n",
              "      <td>c</td>\n",
              "      <td>5.0</td>\n",
              "    </tr>\n",
              "    <tr>\n",
              "      <th>8</th>\n",
              "      <td>c</td>\n",
              "      <td>6.0</td>\n",
              "    </tr>\n",
              "  </tbody>\n",
              "</table>\n",
              "</div>"
            ],
            "text/plain": [
              "  juices  quanity\n",
              "0      a      4.0\n",
              "1      a      3.0\n",
              "2      a     12.0\n",
              "3      b      6.0\n",
              "4      b      7.5\n",
              "5      b      8.0\n",
              "6      c      3.0\n",
              "7      c      5.0\n",
              "8      c      6.0"
            ]
          },
          "metadata": {
            "tags": []
          },
          "execution_count": 28
        }
      ]
    },
    {
      "cell_type": "code",
      "metadata": {
        "id": "PFaQRsrZcKYB",
        "outputId": "c844122d-ea87-4a0d-d009-74d8b05fa192",
        "colab": {
          "base_uri": "https://localhost:8080/",
          "height": 315
        }
      },
      "source": [
        "plt.hist(data.juices)"
      ],
      "execution_count": null,
      "outputs": [
        {
          "output_type": "execute_result",
          "data": {
            "text/plain": [
              "(array([3., 0., 0., 0., 0., 3., 0., 0., 0., 3.]),\n",
              " array([0. , 0.2, 0.4, 0.6, 0.8, 1. , 1.2, 1.4, 1.6, 1.8, 2. ]),\n",
              " <a list of 10 Patch objects>)"
            ]
          },
          "metadata": {
            "tags": []
          },
          "execution_count": 29
        },
        {
          "output_type": "display_data",
          "data": {
            "image/png": "[encoded data removed]",
            "text/plain": [
              "<Figure size 432x288 with 1 Axes>"
            ]
          },
          "metadata": {
            "tags": [],
            "needs_background": "light"
          }
        }
      ]
    },
    {
      "cell_type": "markdown",
      "metadata": {
        "id": "pGO-1loqcaXc"
      },
      "source": [
        "**Nominal data** - Nominal data is defined as data that is used for naming or labelling variables, without any quantitative value. It is sometimes called “named” data - a meaning coined from the word nominal. "
      ]
    },
    {
      "cell_type": "code",
      "metadata": {
        "id": "Hy8Ffjgncc7h"
      },
      "source": [
        "data['rating'] = np.random.randint(0,5,9)"
      ],
      "execution_count": null,
      "outputs": []
    },
    {
      "cell_type": "code",
      "metadata": {
        "id": "oOXyRE12cp7M",
        "outputId": "37f5e8bf-0fc4-4d61-b700-a44e91f8cdee",
        "colab": {
          "base_uri": "https://localhost:8080/",
          "height": 314
        }
      },
      "source": [
        "data"
      ],
      "execution_count": null,
      "outputs": [
        {
          "output_type": "execute_result",
          "data": {
            "text/html": [
              "<div>\n",
              "<style scoped>\n",
              "    .dataframe tbody tr th:only-of-type {\n",
              "        vertical-align: middle;\n",
              "    }\n",
              "\n",
              "    .dataframe tbody tr th {\n",
              "        vertical-align: top;\n",
              "    }\n",
              "\n",
              "    .dataframe thead th {\n",
              "        text-align: right;\n",
              "    }\n",
              "</style>\n",
              "<table border=\"1\" class=\"dataframe\">\n",
              "  <thead>\n",
              "    <tr style=\"text-align: right;\">\n",
              "      <th></th>\n",
              "      <th>juices</th>\n",
              "      <th>quanity</th>\n",
              "      <th>rating</th>\n",
              "    </tr>\n",
              "  </thead>\n",
              "  <tbody>\n",
              "    <tr>\n",
              "      <th>0</th>\n",
              "      <td>a</td>\n",
              "      <td>4.0</td>\n",
              "      <td>4</td>\n",
              "    </tr>\n",
              "    <tr>\n",
              "      <th>1</th>\n",
              "      <td>a</td>\n",
              "      <td>3.0</td>\n",
              "      <td>1</td>\n",
              "    </tr>\n",
              "    <tr>\n",
              "      <th>2</th>\n",
              "      <td>a</td>\n",
              "      <td>12.0</td>\n",
              "      <td>2</td>\n",
              "    </tr>\n",
              "    <tr>\n",
              "      <th>3</th>\n",
              "      <td>b</td>\n",
              "      <td>6.0</td>\n",
              "      <td>0</td>\n",
              "    </tr>\n",
              "    <tr>\n",
              "      <th>4</th>\n",
              "      <td>b</td>\n",
              "      <td>7.5</td>\n",
              "      <td>1</td>\n",
              "    </tr>\n",
              "    <tr>\n",
              "      <th>5</th>\n",
              "      <td>b</td>\n",
              "      <td>8.0</td>\n",
              "      <td>0</td>\n",
              "    </tr>\n",
              "    <tr>\n",
              "      <th>6</th>\n",
              "      <td>c</td>\n",
              "      <td>3.0</td>\n",
              "      <td>4</td>\n",
              "    </tr>\n",
              "    <tr>\n",
              "      <th>7</th>\n",
              "      <td>c</td>\n",
              "      <td>5.0</td>\n",
              "      <td>4</td>\n",
              "    </tr>\n",
              "    <tr>\n",
              "      <th>8</th>\n",
              "      <td>c</td>\n",
              "      <td>6.0</td>\n",
              "      <td>0</td>\n",
              "    </tr>\n",
              "  </tbody>\n",
              "</table>\n",
              "</div>"
            ],
            "text/plain": [
              "  juices  quanity  rating\n",
              "0      a      4.0       4\n",
              "1      a      3.0       1\n",
              "2      a     12.0       2\n",
              "3      b      6.0       0\n",
              "4      b      7.5       1\n",
              "5      b      8.0       0\n",
              "6      c      3.0       4\n",
              "7      c      5.0       4\n",
              "8      c      6.0       0"
            ]
          },
          "metadata": {
            "tags": []
          },
          "execution_count": 31
        }
      ]
    },
    {
      "cell_type": "code",
      "metadata": {
        "id": "M5-K_Qj1dFv_",
        "outputId": "d7300d25-6c58-48bd-8a8c-b234314ae6db",
        "colab": {
          "base_uri": "https://localhost:8080/",
          "height": 399
        }
      },
      "source": [
        "data_pie_chart = data.groupby(['juices'], axis=0)['quanity'].sum()\n",
        "plt.pie(np.array(data_pie_chart), labels=(\"a\", \"b\", \"c\"), explode=(0,0.1,0), shadow=True, autopct='%d%%')"
      ],
      "execution_count": null,
      "outputs": [
        {
          "output_type": "execute_result",
          "data": {
            "text/plain": [
              "([<matplotlib.patches.Wedge at 0x7fbd8bb0d4e0>,\n",
              "  <matplotlib.patches.Wedge at 0x7fbd8bb0df28>,\n",
              "  <matplotlib.patches.Wedge at 0x7fbd8bb1a940>],\n",
              " [Text(0.5036221940971336, 0.9779389989221154, 'a'),\n",
              "  Text(-1.1505017980955738, -0.3410947266945822, 'b'),\n",
              "  Text(0.7608233961924185, -0.7944480850289933, 'c')],\n",
              " [Text(0.27470301496207283, 0.5334212721393357, '34%'),\n",
              "  Text(-0.6711260488890847, -0.1989719239051729, '39%'),\n",
              "  Text(0.4149945797413191, -0.43333531910672357, '25%')])"
            ]
          },
          "metadata": {
            "tags": []
          },
          "execution_count": 34
        },
        {
          "output_type": "display_data",
          "data": {
            "image/png": "[encoded data removed]",
            "text/plain": [
              "<Figure size 432x288 with 1 Axes>"
            ]
          },
          "metadata": {
            "tags": []
          }
        }
      ]
    },
    {
      "cell_type": "markdown",
      "metadata": {
        "id": "mFicZeg_fqax"
      },
      "source": [
        "**Ordinal data** - Ordinal data is a type of categorical data with an order. The variables in ordinal data are listed in an ordered manner. The ordinal variables are usually numbered, so as to indicate the order of the list."
      ]
    },
    {
      "cell_type": "code",
      "metadata": {
        "id": "2tVDZDQLfXrH",
        "outputId": "5a3cd853-4d8c-443d-e2a4-3bcf5a7112b5",
        "colab": {
          "base_uri": "https://localhost:8080/",
          "height": 279
        }
      },
      "source": [
        "data.plot.bar(stacked = True)"
      ],
      "execution_count": null,
      "outputs": [
        {
          "output_type": "execute_result",
          "data": {
            "text/plain": [
              "<matplotlib.axes._subplots.AxesSubplot at 0x7fbd8bb8f860>"
            ]
          },
          "metadata": {
            "tags": []
          },
          "execution_count": 35
        },
        {
          "output_type": "display_data",
          "data": {
            "image/png": "[encoded data removed]",
            "text/plain": [
              "<Figure size 432x288 with 1 Axes>"
            ]
          },
          "metadata": {
            "tags": [],
            "needs_background": "light"
          }
        }
      ]
    }
  ]
}