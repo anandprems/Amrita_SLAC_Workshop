{
  "nbformat": 4,
  "nbformat_minor": 0,
  "metadata": {
    "colab": {
      "name": "1_Statistics_Central_Tendency.ipynb",
      "provenance": []
    },
    "kernelspec": {
      "name": "python3",
      "display_name": "Python 3"
    }
  },
  "cells": [
    {
      "cell_type": "markdown",
      "metadata": {
        "id": "kCt6zIW6kmL8"
      },
      "source": [
        "**STATISTICS**"
      ]
    },
    {
      "cell_type": "markdown",
      "metadata": {
        "id": "-DnNnYwhkqon"
      },
      "source": [
        "Branch of Mathematics\n",
        "1.   collect the data\n",
        "2.   organize the data\n",
        "3.   and do interpretation with the data"
      ]
    },
    {
      "cell_type": "markdown",
      "metadata": {
        "id": "Su6mcS2DlSBY"
      },
      "source": [
        "**Central Tendency**\n",
        "gives basic understanding about the distribution of data around the central value\n",
        "1. **Mean** - Sum of the value divide by total number of values (Avg)\n",
        "2. **Meadian** - Arrange the marks in order (Ascending / Descending) then find the middle value\n",
        "3. **Mode** - Frequently occuring values"
      ]
    },
    {
      "cell_type": "code",
      "metadata": {
        "id": "bw5_jLDNmXZu"
      },
      "source": [
        "#importing basic libraries\n",
        "import numpy as np \n",
        "import pandas as pd\n",
        "import matplotlib.pyplot as plt\n",
        "%matplotlib inline"
      ],
      "execution_count": null,
      "outputs": []
    },
    {
      "cell_type": "code",
      "metadata": {
        "id": "hu8n95ENmytO",
        "outputId": "83ecc922-9ca0-4d75-a01a-cf2d2a64fcc9",
        "colab": {
          "base_uri": "https://localhost:8080/"
        }
      },
      "source": [
        "#genarate random numbers list \n",
        "data = np.random.randint(5,9,10)\n",
        "print(data)"
      ],
      "execution_count": null,
      "outputs": [
        {
          "output_type": "stream",
          "text": [
            "[6 6 7 7 5 6 5 7 5 5]\n"
          ],
          "name": "stdout"
        }
      ]
    },
    {
      "cell_type": "code",
      "metadata": {
        "id": "GSqKWzAjnZTS",
        "outputId": "dbaabfb5-3269-4e78-c3c0-8eada85ceb8c",
        "colab": {
          "base_uri": "https://localhost:8080/"
        }
      },
      "source": [
        "#mean is the sum of value of each observation in the dataset divided by number of observations\n",
        "np.mean(data)"
      ],
      "execution_count": null,
      "outputs": [
        {
          "output_type": "execute_result",
          "data": {
            "text/plain": [
              "5.9"
            ]
          },
          "metadata": {
            "tags": []
          },
          "execution_count": 3
        }
      ]
    },
    {
      "cell_type": "code",
      "metadata": {
        "id": "T3Lda_C_nryG",
        "outputId": "8a8835cf-d824-4dec-95eb-7e6e72581553",
        "colab": {
          "base_uri": "https://localhost:8080/"
        }
      },
      "source": [
        "#median is the middle value in the distribution when the values are arranged in ascending or descending order\n",
        "np.median(data)"
      ],
      "execution_count": null,
      "outputs": [
        {
          "output_type": "execute_result",
          "data": {
            "text/plain": [
              "6.0"
            ]
          },
          "metadata": {
            "tags": []
          },
          "execution_count": 4
        }
      ]
    },
    {
      "cell_type": "code",
      "metadata": {
        "id": "9ELqwRK3oHT-",
        "outputId": "e93dc28d-8883-49b5-ac6b-77d93092bad6",
        "colab": {
          "base_uri": "https://localhost:8080/"
        }
      },
      "source": [
        "#mode is the most commonly occuring value in the distribution\n",
        "#NUMPY lib dont have MODE option so,\n",
        "from statistics import mode\n",
        "mode(data)"
      ],
      "execution_count": null,
      "outputs": [
        {
          "output_type": "execute_result",
          "data": {
            "text/plain": [
              "5"
            ]
          },
          "metadata": {
            "tags": []
          },
          "execution_count": 5
        }
      ]
    }
  ]
}