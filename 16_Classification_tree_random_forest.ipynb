{
  "nbformat": 4,
  "nbformat_minor": 0,
  "metadata": {
    "kernelspec": {
      "display_name": "Python 3",
      "language": "python",
      "name": "python3"
    },
    "language_info": {
      "codemirror_mode": {
        "name": "ipython",
        "version": 3
      },
      "file_extension": ".py",
      "mimetype": "text/x-python",
      "name": "python",
      "nbconvert_exporter": "python",
      "pygments_lexer": "ipython3",
      "version": "3.7.1"
    },
    "colab": {
      "name": "16_Classification_tree_random_forest.ipynb",
      "provenance": [],
      "toc_visible": true
    }
  },
  "cells": [
    {
      "cell_type": "code",
      "metadata": {
        "id": "Bng4UQjlJ4vC"
      },
      "source": [
        "import numpy as np\n",
        "import pandas as pd\n",
        "import seaborn as sns\n",
        "import matplotlib.pyplot as plt"
      ],
      "execution_count": 1,
      "outputs": []
    },
    {
      "cell_type": "code",
      "metadata": {
        "id": "05_GwjNuJ4vH"
      },
      "source": [
        "df = pd.read_csv(\"Movie_classification.csv\", header=0)"
      ],
      "execution_count": 2,
      "outputs": []
    },
    {
      "cell_type": "code",
      "metadata": {
        "id": "Q1g_4aVXJ4vK",
        "outputId": "d81f67e8-6386-4784-adc4-76a1b9d684a0",
        "colab": {
          "base_uri": "https://localhost:8080/",
          "height": 232
        }
      },
      "source": [
        "df.head()"
      ],
      "execution_count": 3,
      "outputs": [
        {
          "output_type": "execute_result",
          "data": {
            "text/html": [
              "<div>\n",
              "<style scoped>\n",
              "    .dataframe tbody tr th:only-of-type {\n",
              "        vertical-align: middle;\n",
              "    }\n",
              "\n",
              "    .dataframe tbody tr th {\n",
              "        vertical-align: top;\n",
              "    }\n",
              "\n",
              "    .dataframe thead th {\n",
              "        text-align: right;\n",
              "    }\n",
              "</style>\n",
              "<table border=\"1\" class=\"dataframe\">\n",
              "  <thead>\n",
              "    <tr style=\"text-align: right;\">\n",
              "      <th></th>\n",
              "      <th>Marketing expense</th>\n",
              "      <th>Production expense</th>\n",
              "      <th>Multiplex coverage</th>\n",
              "      <th>Budget</th>\n",
              "      <th>Movie_length</th>\n",
              "      <th>Lead_ Actor_Rating</th>\n",
              "      <th>Lead_Actress_rating</th>\n",
              "      <th>Director_rating</th>\n",
              "      <th>Producer_rating</th>\n",
              "      <th>Critic_rating</th>\n",
              "      <th>Trailer_views</th>\n",
              "      <th>3D_available</th>\n",
              "      <th>Time_taken</th>\n",
              "      <th>Twitter_hastags</th>\n",
              "      <th>Genre</th>\n",
              "      <th>Avg_age_actors</th>\n",
              "      <th>Num_multiplex</th>\n",
              "      <th>Collection</th>\n",
              "      <th>Start_Tech_Oscar</th>\n",
              "    </tr>\n",
              "  </thead>\n",
              "  <tbody>\n",
              "    <tr>\n",
              "      <th>0</th>\n",
              "      <td>20.1264</td>\n",
              "      <td>59.62</td>\n",
              "      <td>0.462</td>\n",
              "      <td>36524.125</td>\n",
              "      <td>138.7</td>\n",
              "      <td>7.825</td>\n",
              "      <td>8.095</td>\n",
              "      <td>7.910</td>\n",
              "      <td>7.995</td>\n",
              "      <td>7.94</td>\n",
              "      <td>527367</td>\n",
              "      <td>YES</td>\n",
              "      <td>109.60</td>\n",
              "      <td>223.840</td>\n",
              "      <td>Thriller</td>\n",
              "      <td>23</td>\n",
              "      <td>494</td>\n",
              "      <td>48000</td>\n",
              "      <td>1</td>\n",
              "    </tr>\n",
              "    <tr>\n",
              "      <th>1</th>\n",
              "      <td>20.5462</td>\n",
              "      <td>69.14</td>\n",
              "      <td>0.531</td>\n",
              "      <td>35668.655</td>\n",
              "      <td>152.4</td>\n",
              "      <td>7.505</td>\n",
              "      <td>7.650</td>\n",
              "      <td>7.440</td>\n",
              "      <td>7.470</td>\n",
              "      <td>7.44</td>\n",
              "      <td>494055</td>\n",
              "      <td>NO</td>\n",
              "      <td>146.64</td>\n",
              "      <td>243.456</td>\n",
              "      <td>Drama</td>\n",
              "      <td>42</td>\n",
              "      <td>462</td>\n",
              "      <td>43200</td>\n",
              "      <td>0</td>\n",
              "    </tr>\n",
              "    <tr>\n",
              "      <th>2</th>\n",
              "      <td>20.5458</td>\n",
              "      <td>69.14</td>\n",
              "      <td>0.531</td>\n",
              "      <td>39912.675</td>\n",
              "      <td>134.6</td>\n",
              "      <td>7.485</td>\n",
              "      <td>7.570</td>\n",
              "      <td>7.495</td>\n",
              "      <td>7.515</td>\n",
              "      <td>7.44</td>\n",
              "      <td>547051</td>\n",
              "      <td>NO</td>\n",
              "      <td>147.88</td>\n",
              "      <td>2022.400</td>\n",
              "      <td>Comedy</td>\n",
              "      <td>38</td>\n",
              "      <td>458</td>\n",
              "      <td>69400</td>\n",
              "      <td>1</td>\n",
              "    </tr>\n",
              "    <tr>\n",
              "      <th>3</th>\n",
              "      <td>20.6474</td>\n",
              "      <td>59.36</td>\n",
              "      <td>0.542</td>\n",
              "      <td>38873.890</td>\n",
              "      <td>119.3</td>\n",
              "      <td>6.895</td>\n",
              "      <td>7.035</td>\n",
              "      <td>6.920</td>\n",
              "      <td>7.020</td>\n",
              "      <td>8.26</td>\n",
              "      <td>516279</td>\n",
              "      <td>YES</td>\n",
              "      <td>185.36</td>\n",
              "      <td>225.344</td>\n",
              "      <td>Drama</td>\n",
              "      <td>45</td>\n",
              "      <td>472</td>\n",
              "      <td>66800</td>\n",
              "      <td>1</td>\n",
              "    </tr>\n",
              "    <tr>\n",
              "      <th>4</th>\n",
              "      <td>21.3810</td>\n",
              "      <td>59.36</td>\n",
              "      <td>0.542</td>\n",
              "      <td>39701.585</td>\n",
              "      <td>127.7</td>\n",
              "      <td>6.920</td>\n",
              "      <td>7.070</td>\n",
              "      <td>6.815</td>\n",
              "      <td>7.070</td>\n",
              "      <td>8.26</td>\n",
              "      <td>531448</td>\n",
              "      <td>NO</td>\n",
              "      <td>176.48</td>\n",
              "      <td>225.792</td>\n",
              "      <td>Drama</td>\n",
              "      <td>55</td>\n",
              "      <td>395</td>\n",
              "      <td>72400</td>\n",
              "      <td>1</td>\n",
              "    </tr>\n",
              "  </tbody>\n",
              "</table>\n",
              "</div>"
            ],
            "text/plain": [
              "   Marketing expense  Production expense  ...  Collection  Start_Tech_Oscar\n",
              "0            20.1264               59.62  ...       48000                 1\n",
              "1            20.5462               69.14  ...       43200                 0\n",
              "2            20.5458               69.14  ...       69400                 1\n",
              "3            20.6474               59.36  ...       66800                 1\n",
              "4            21.3810               59.36  ...       72400                 1\n",
              "\n",
              "[5 rows x 19 columns]"
            ]
          },
          "metadata": {
            "tags": []
          },
          "execution_count": 3
        }
      ]
    },
    {
      "cell_type": "code",
      "metadata": {
        "id": "LJR91jZWJ4vO",
        "outputId": "bc609587-464f-498c-a1c6-cc44c2d6d901",
        "colab": {
          "base_uri": "https://localhost:8080/",
          "height": 0
        }
      },
      "source": [
        "df.info()"
      ],
      "execution_count": 4,
      "outputs": [
        {
          "output_type": "stream",
          "text": [
            "<class 'pandas.core.frame.DataFrame'>\n",
            "RangeIndex: 506 entries, 0 to 505\n",
            "Data columns (total 19 columns):\n",
            " #   Column               Non-Null Count  Dtype  \n",
            "---  ------               --------------  -----  \n",
            " 0   Marketing expense    506 non-null    float64\n",
            " 1   Production expense   506 non-null    float64\n",
            " 2   Multiplex coverage   506 non-null    float64\n",
            " 3   Budget               506 non-null    float64\n",
            " 4   Movie_length         506 non-null    float64\n",
            " 5   Lead_ Actor_Rating   506 non-null    float64\n",
            " 6   Lead_Actress_rating  506 non-null    float64\n",
            " 7   Director_rating      506 non-null    float64\n",
            " 8   Producer_rating      506 non-null    float64\n",
            " 9   Critic_rating        506 non-null    float64\n",
            " 10  Trailer_views        506 non-null    int64  \n",
            " 11  3D_available         506 non-null    object \n",
            " 12  Time_taken           494 non-null    float64\n",
            " 13  Twitter_hastags      506 non-null    float64\n",
            " 14  Genre                506 non-null    object \n",
            " 15  Avg_age_actors       506 non-null    int64  \n",
            " 16  Num_multiplex        506 non-null    int64  \n",
            " 17  Collection           506 non-null    int64  \n",
            " 18  Start_Tech_Oscar     506 non-null    int64  \n",
            "dtypes: float64(12), int64(5), object(2)\n",
            "memory usage: 75.2+ KB\n"
          ],
          "name": "stdout"
        }
      ]
    },
    {
      "cell_type": "markdown",
      "metadata": {
        "id": "MkN5AierJ4vR"
      },
      "source": [
        "### Missing Value Imputation"
      ]
    },
    {
      "cell_type": "code",
      "metadata": {
        "id": "ENBW8u97J4vS",
        "outputId": "785af0df-08c3-4363-b1b1-3870d0bfc2fe",
        "colab": {
          "base_uri": "https://localhost:8080/",
          "height": 0
        }
      },
      "source": [
        "df['Time_taken'].mean()"
      ],
      "execution_count": 5,
      "outputs": [
        {
          "output_type": "execute_result",
          "data": {
            "text/plain": [
              "157.39149797570855"
            ]
          },
          "metadata": {
            "tags": []
          },
          "execution_count": 5
        }
      ]
    },
    {
      "cell_type": "code",
      "metadata": {
        "id": "hsfUYhTYJ4vV"
      },
      "source": [
        "df['Time_taken'].fillna(value = df['Time_taken'].mean(), inplace = True)"
      ],
      "execution_count": 6,
      "outputs": []
    },
    {
      "cell_type": "code",
      "metadata": {
        "id": "ekDN5wRRJ4vY",
        "outputId": "37189582-8d03-4aab-8fca-94901a2724d5",
        "colab": {
          "base_uri": "https://localhost:8080/",
          "height": 0
        }
      },
      "source": [
        "df.info()"
      ],
      "execution_count": 7,
      "outputs": [
        {
          "output_type": "stream",
          "text": [
            "<class 'pandas.core.frame.DataFrame'>\n",
            "RangeIndex: 506 entries, 0 to 505\n",
            "Data columns (total 19 columns):\n",
            " #   Column               Non-Null Count  Dtype  \n",
            "---  ------               --------------  -----  \n",
            " 0   Marketing expense    506 non-null    float64\n",
            " 1   Production expense   506 non-null    float64\n",
            " 2   Multiplex coverage   506 non-null    float64\n",
            " 3   Budget               506 non-null    float64\n",
            " 4   Movie_length         506 non-null    float64\n",
            " 5   Lead_ Actor_Rating   506 non-null    float64\n",
            " 6   Lead_Actress_rating  506 non-null    float64\n",
            " 7   Director_rating      506 non-null    float64\n",
            " 8   Producer_rating      506 non-null    float64\n",
            " 9   Critic_rating        506 non-null    float64\n",
            " 10  Trailer_views        506 non-null    int64  \n",
            " 11  3D_available         506 non-null    object \n",
            " 12  Time_taken           506 non-null    float64\n",
            " 13  Twitter_hastags      506 non-null    float64\n",
            " 14  Genre                506 non-null    object \n",
            " 15  Avg_age_actors       506 non-null    int64  \n",
            " 16  Num_multiplex        506 non-null    int64  \n",
            " 17  Collection           506 non-null    int64  \n",
            " 18  Start_Tech_Oscar     506 non-null    int64  \n",
            "dtypes: float64(12), int64(5), object(2)\n",
            "memory usage: 75.2+ KB\n"
          ],
          "name": "stdout"
        }
      ]
    },
    {
      "cell_type": "markdown",
      "metadata": {
        "id": "6KQrp_tbJ4vc"
      },
      "source": [
        "### Dummy Variable Creation"
      ]
    },
    {
      "cell_type": "code",
      "metadata": {
        "id": "9KYL0lgcJ4vc",
        "outputId": "469ab93c-c0b0-4fe9-8319-80a9072d161e",
        "colab": {
          "base_uri": "https://localhost:8080/",
          "height": 232
        }
      },
      "source": [
        "df.head()"
      ],
      "execution_count": 8,
      "outputs": [
        {
          "output_type": "execute_result",
          "data": {
            "text/html": [
              "<div>\n",
              "<style scoped>\n",
              "    .dataframe tbody tr th:only-of-type {\n",
              "        vertical-align: middle;\n",
              "    }\n",
              "\n",
              "    .dataframe tbody tr th {\n",
              "        vertical-align: top;\n",
              "    }\n",
              "\n",
              "    .dataframe thead th {\n",
              "        text-align: right;\n",
              "    }\n",
              "</style>\n",
              "<table border=\"1\" class=\"dataframe\">\n",
              "  <thead>\n",
              "    <tr style=\"text-align: right;\">\n",
              "      <th></th>\n",
              "      <th>Marketing expense</th>\n",
              "      <th>Production expense</th>\n",
              "      <th>Multiplex coverage</th>\n",
              "      <th>Budget</th>\n",
              "      <th>Movie_length</th>\n",
              "      <th>Lead_ Actor_Rating</th>\n",
              "      <th>Lead_Actress_rating</th>\n",
              "      <th>Director_rating</th>\n",
              "      <th>Producer_rating</th>\n",
              "      <th>Critic_rating</th>\n",
              "      <th>Trailer_views</th>\n",
              "      <th>3D_available</th>\n",
              "      <th>Time_taken</th>\n",
              "      <th>Twitter_hastags</th>\n",
              "      <th>Genre</th>\n",
              "      <th>Avg_age_actors</th>\n",
              "      <th>Num_multiplex</th>\n",
              "      <th>Collection</th>\n",
              "      <th>Start_Tech_Oscar</th>\n",
              "    </tr>\n",
              "  </thead>\n",
              "  <tbody>\n",
              "    <tr>\n",
              "      <th>0</th>\n",
              "      <td>20.1264</td>\n",
              "      <td>59.62</td>\n",
              "      <td>0.462</td>\n",
              "      <td>36524.125</td>\n",
              "      <td>138.7</td>\n",
              "      <td>7.825</td>\n",
              "      <td>8.095</td>\n",
              "      <td>7.910</td>\n",
              "      <td>7.995</td>\n",
              "      <td>7.94</td>\n",
              "      <td>527367</td>\n",
              "      <td>YES</td>\n",
              "      <td>109.60</td>\n",
              "      <td>223.840</td>\n",
              "      <td>Thriller</td>\n",
              "      <td>23</td>\n",
              "      <td>494</td>\n",
              "      <td>48000</td>\n",
              "      <td>1</td>\n",
              "    </tr>\n",
              "    <tr>\n",
              "      <th>1</th>\n",
              "      <td>20.5462</td>\n",
              "      <td>69.14</td>\n",
              "      <td>0.531</td>\n",
              "      <td>35668.655</td>\n",
              "      <td>152.4</td>\n",
              "      <td>7.505</td>\n",
              "      <td>7.650</td>\n",
              "      <td>7.440</td>\n",
              "      <td>7.470</td>\n",
              "      <td>7.44</td>\n",
              "      <td>494055</td>\n",
              "      <td>NO</td>\n",
              "      <td>146.64</td>\n",
              "      <td>243.456</td>\n",
              "      <td>Drama</td>\n",
              "      <td>42</td>\n",
              "      <td>462</td>\n",
              "      <td>43200</td>\n",
              "      <td>0</td>\n",
              "    </tr>\n",
              "    <tr>\n",
              "      <th>2</th>\n",
              "      <td>20.5458</td>\n",
              "      <td>69.14</td>\n",
              "      <td>0.531</td>\n",
              "      <td>39912.675</td>\n",
              "      <td>134.6</td>\n",
              "      <td>7.485</td>\n",
              "      <td>7.570</td>\n",
              "      <td>7.495</td>\n",
              "      <td>7.515</td>\n",
              "      <td>7.44</td>\n",
              "      <td>547051</td>\n",
              "      <td>NO</td>\n",
              "      <td>147.88</td>\n",
              "      <td>2022.400</td>\n",
              "      <td>Comedy</td>\n",
              "      <td>38</td>\n",
              "      <td>458</td>\n",
              "      <td>69400</td>\n",
              "      <td>1</td>\n",
              "    </tr>\n",
              "    <tr>\n",
              "      <th>3</th>\n",
              "      <td>20.6474</td>\n",
              "      <td>59.36</td>\n",
              "      <td>0.542</td>\n",
              "      <td>38873.890</td>\n",
              "      <td>119.3</td>\n",
              "      <td>6.895</td>\n",
              "      <td>7.035</td>\n",
              "      <td>6.920</td>\n",
              "      <td>7.020</td>\n",
              "      <td>8.26</td>\n",
              "      <td>516279</td>\n",
              "      <td>YES</td>\n",
              "      <td>185.36</td>\n",
              "      <td>225.344</td>\n",
              "      <td>Drama</td>\n",
              "      <td>45</td>\n",
              "      <td>472</td>\n",
              "      <td>66800</td>\n",
              "      <td>1</td>\n",
              "    </tr>\n",
              "    <tr>\n",
              "      <th>4</th>\n",
              "      <td>21.3810</td>\n",
              "      <td>59.36</td>\n",
              "      <td>0.542</td>\n",
              "      <td>39701.585</td>\n",
              "      <td>127.7</td>\n",
              "      <td>6.920</td>\n",
              "      <td>7.070</td>\n",
              "      <td>6.815</td>\n",
              "      <td>7.070</td>\n",
              "      <td>8.26</td>\n",
              "      <td>531448</td>\n",
              "      <td>NO</td>\n",
              "      <td>176.48</td>\n",
              "      <td>225.792</td>\n",
              "      <td>Drama</td>\n",
              "      <td>55</td>\n",
              "      <td>395</td>\n",
              "      <td>72400</td>\n",
              "      <td>1</td>\n",
              "    </tr>\n",
              "  </tbody>\n",
              "</table>\n",
              "</div>"
            ],
            "text/plain": [
              "   Marketing expense  Production expense  ...  Collection  Start_Tech_Oscar\n",
              "0            20.1264               59.62  ...       48000                 1\n",
              "1            20.5462               69.14  ...       43200                 0\n",
              "2            20.5458               69.14  ...       69400                 1\n",
              "3            20.6474               59.36  ...       66800                 1\n",
              "4            21.3810               59.36  ...       72400                 1\n",
              "\n",
              "[5 rows x 19 columns]"
            ]
          },
          "metadata": {
            "tags": []
          },
          "execution_count": 8
        }
      ]
    },
    {
      "cell_type": "code",
      "metadata": {
        "id": "y5xqPhk3J4vf"
      },
      "source": [
        "df = pd.get_dummies(df,columns = [\"3D_available\",\"Genre\"],drop_first = True)"
      ],
      "execution_count": 9,
      "outputs": []
    },
    {
      "cell_type": "code",
      "metadata": {
        "id": "KdZ4OwceJ4vm",
        "outputId": "6fe3e8f6-13b7-4a32-9d49-2826a5e0a5a6",
        "colab": {
          "base_uri": "https://localhost:8080/",
          "height": 232
        }
      },
      "source": [
        "df.head()"
      ],
      "execution_count": 10,
      "outputs": [
        {
          "output_type": "execute_result",
          "data": {
            "text/html": [
              "<div>\n",
              "<style scoped>\n",
              "    .dataframe tbody tr th:only-of-type {\n",
              "        vertical-align: middle;\n",
              "    }\n",
              "\n",
              "    .dataframe tbody tr th {\n",
              "        vertical-align: top;\n",
              "    }\n",
              "\n",
              "    .dataframe thead th {\n",
              "        text-align: right;\n",
              "    }\n",
              "</style>\n",
              "<table border=\"1\" class=\"dataframe\">\n",
              "  <thead>\n",
              "    <tr style=\"text-align: right;\">\n",
              "      <th></th>\n",
              "      <th>Marketing expense</th>\n",
              "      <th>Production expense</th>\n",
              "      <th>Multiplex coverage</th>\n",
              "      <th>Budget</th>\n",
              "      <th>Movie_length</th>\n",
              "      <th>Lead_ Actor_Rating</th>\n",
              "      <th>Lead_Actress_rating</th>\n",
              "      <th>Director_rating</th>\n",
              "      <th>Producer_rating</th>\n",
              "      <th>Critic_rating</th>\n",
              "      <th>Trailer_views</th>\n",
              "      <th>Time_taken</th>\n",
              "      <th>Twitter_hastags</th>\n",
              "      <th>Avg_age_actors</th>\n",
              "      <th>Num_multiplex</th>\n",
              "      <th>Collection</th>\n",
              "      <th>Start_Tech_Oscar</th>\n",
              "      <th>3D_available_YES</th>\n",
              "      <th>Genre_Comedy</th>\n",
              "      <th>Genre_Drama</th>\n",
              "      <th>Genre_Thriller</th>\n",
              "    </tr>\n",
              "  </thead>\n",
              "  <tbody>\n",
              "    <tr>\n",
              "      <th>0</th>\n",
              "      <td>20.1264</td>\n",
              "      <td>59.62</td>\n",
              "      <td>0.462</td>\n",
              "      <td>36524.125</td>\n",
              "      <td>138.7</td>\n",
              "      <td>7.825</td>\n",
              "      <td>8.095</td>\n",
              "      <td>7.910</td>\n",
              "      <td>7.995</td>\n",
              "      <td>7.94</td>\n",
              "      <td>527367</td>\n",
              "      <td>109.60</td>\n",
              "      <td>223.840</td>\n",
              "      <td>23</td>\n",
              "      <td>494</td>\n",
              "      <td>48000</td>\n",
              "      <td>1</td>\n",
              "      <td>1</td>\n",
              "      <td>0</td>\n",
              "      <td>0</td>\n",
              "      <td>1</td>\n",
              "    </tr>\n",
              "    <tr>\n",
              "      <th>1</th>\n",
              "      <td>20.5462</td>\n",
              "      <td>69.14</td>\n",
              "      <td>0.531</td>\n",
              "      <td>35668.655</td>\n",
              "      <td>152.4</td>\n",
              "      <td>7.505</td>\n",
              "      <td>7.650</td>\n",
              "      <td>7.440</td>\n",
              "      <td>7.470</td>\n",
              "      <td>7.44</td>\n",
              "      <td>494055</td>\n",
              "      <td>146.64</td>\n",
              "      <td>243.456</td>\n",
              "      <td>42</td>\n",
              "      <td>462</td>\n",
              "      <td>43200</td>\n",
              "      <td>0</td>\n",
              "      <td>0</td>\n",
              "      <td>0</td>\n",
              "      <td>1</td>\n",
              "      <td>0</td>\n",
              "    </tr>\n",
              "    <tr>\n",
              "      <th>2</th>\n",
              "      <td>20.5458</td>\n",
              "      <td>69.14</td>\n",
              "      <td>0.531</td>\n",
              "      <td>39912.675</td>\n",
              "      <td>134.6</td>\n",
              "      <td>7.485</td>\n",
              "      <td>7.570</td>\n",
              "      <td>7.495</td>\n",
              "      <td>7.515</td>\n",
              "      <td>7.44</td>\n",
              "      <td>547051</td>\n",
              "      <td>147.88</td>\n",
              "      <td>2022.400</td>\n",
              "      <td>38</td>\n",
              "      <td>458</td>\n",
              "      <td>69400</td>\n",
              "      <td>1</td>\n",
              "      <td>0</td>\n",
              "      <td>1</td>\n",
              "      <td>0</td>\n",
              "      <td>0</td>\n",
              "    </tr>\n",
              "    <tr>\n",
              "      <th>3</th>\n",
              "      <td>20.6474</td>\n",
              "      <td>59.36</td>\n",
              "      <td>0.542</td>\n",
              "      <td>38873.890</td>\n",
              "      <td>119.3</td>\n",
              "      <td>6.895</td>\n",
              "      <td>7.035</td>\n",
              "      <td>6.920</td>\n",
              "      <td>7.020</td>\n",
              "      <td>8.26</td>\n",
              "      <td>516279</td>\n",
              "      <td>185.36</td>\n",
              "      <td>225.344</td>\n",
              "      <td>45</td>\n",
              "      <td>472</td>\n",
              "      <td>66800</td>\n",
              "      <td>1</td>\n",
              "      <td>1</td>\n",
              "      <td>0</td>\n",
              "      <td>1</td>\n",
              "      <td>0</td>\n",
              "    </tr>\n",
              "    <tr>\n",
              "      <th>4</th>\n",
              "      <td>21.3810</td>\n",
              "      <td>59.36</td>\n",
              "      <td>0.542</td>\n",
              "      <td>39701.585</td>\n",
              "      <td>127.7</td>\n",
              "      <td>6.920</td>\n",
              "      <td>7.070</td>\n",
              "      <td>6.815</td>\n",
              "      <td>7.070</td>\n",
              "      <td>8.26</td>\n",
              "      <td>531448</td>\n",
              "      <td>176.48</td>\n",
              "      <td>225.792</td>\n",
              "      <td>55</td>\n",
              "      <td>395</td>\n",
              "      <td>72400</td>\n",
              "      <td>1</td>\n",
              "      <td>0</td>\n",
              "      <td>0</td>\n",
              "      <td>1</td>\n",
              "      <td>0</td>\n",
              "    </tr>\n",
              "  </tbody>\n",
              "</table>\n",
              "</div>"
            ],
            "text/plain": [
              "   Marketing expense  Production expense  ...  Genre_Drama  Genre_Thriller\n",
              "0            20.1264               59.62  ...            0               1\n",
              "1            20.5462               69.14  ...            1               0\n",
              "2            20.5458               69.14  ...            0               0\n",
              "3            20.6474               59.36  ...            1               0\n",
              "4            21.3810               59.36  ...            1               0\n",
              "\n",
              "[5 rows x 21 columns]"
            ]
          },
          "metadata": {
            "tags": []
          },
          "execution_count": 10
        }
      ]
    },
    {
      "cell_type": "markdown",
      "metadata": {
        "id": "Ah7rzbjTJ4vr"
      },
      "source": [
        "### X-y split"
      ]
    },
    {
      "cell_type": "code",
      "metadata": {
        "id": "Jh8A4N9UJ4vs",
        "outputId": "0718d699-4fb9-4f8e-f163-3eea9c6a87f2",
        "colab": {
          "base_uri": "https://localhost:8080/",
          "height": 0
        }
      },
      "source": [
        "X = df.loc[:,df.columns!=\"Start_Tech_Oscar\"]\n",
        "type(X)"
      ],
      "execution_count": 11,
      "outputs": [
        {
          "output_type": "execute_result",
          "data": {
            "text/plain": [
              "pandas.core.frame.DataFrame"
            ]
          },
          "metadata": {
            "tags": []
          },
          "execution_count": 11
        }
      ]
    },
    {
      "cell_type": "code",
      "metadata": {
        "id": "pF7Ehdc1J4vw",
        "outputId": "9b481bc8-8181-45b2-e840-ed5b7ec9a658",
        "colab": {
          "base_uri": "https://localhost:8080/",
          "height": 232
        }
      },
      "source": [
        "X.head()"
      ],
      "execution_count": 12,
      "outputs": [
        {
          "output_type": "execute_result",
          "data": {
            "text/html": [
              "<div>\n",
              "<style scoped>\n",
              "    .dataframe tbody tr th:only-of-type {\n",
              "        vertical-align: middle;\n",
              "    }\n",
              "\n",
              "    .dataframe tbody tr th {\n",
              "        vertical-align: top;\n",
              "    }\n",
              "\n",
              "    .dataframe thead th {\n",
              "        text-align: right;\n",
              "    }\n",
              "</style>\n",
              "<table border=\"1\" class=\"dataframe\">\n",
              "  <thead>\n",
              "    <tr style=\"text-align: right;\">\n",
              "      <th></th>\n",
              "      <th>Marketing expense</th>\n",
              "      <th>Production expense</th>\n",
              "      <th>Multiplex coverage</th>\n",
              "      <th>Budget</th>\n",
              "      <th>Movie_length</th>\n",
              "      <th>Lead_ Actor_Rating</th>\n",
              "      <th>Lead_Actress_rating</th>\n",
              "      <th>Director_rating</th>\n",
              "      <th>Producer_rating</th>\n",
              "      <th>Critic_rating</th>\n",
              "      <th>Trailer_views</th>\n",
              "      <th>Time_taken</th>\n",
              "      <th>Twitter_hastags</th>\n",
              "      <th>Avg_age_actors</th>\n",
              "      <th>Num_multiplex</th>\n",
              "      <th>Collection</th>\n",
              "      <th>3D_available_YES</th>\n",
              "      <th>Genre_Comedy</th>\n",
              "      <th>Genre_Drama</th>\n",
              "      <th>Genre_Thriller</th>\n",
              "    </tr>\n",
              "  </thead>\n",
              "  <tbody>\n",
              "    <tr>\n",
              "      <th>0</th>\n",
              "      <td>20.1264</td>\n",
              "      <td>59.62</td>\n",
              "      <td>0.462</td>\n",
              "      <td>36524.125</td>\n",
              "      <td>138.7</td>\n",
              "      <td>7.825</td>\n",
              "      <td>8.095</td>\n",
              "      <td>7.910</td>\n",
              "      <td>7.995</td>\n",
              "      <td>7.94</td>\n",
              "      <td>527367</td>\n",
              "      <td>109.60</td>\n",
              "      <td>223.840</td>\n",
              "      <td>23</td>\n",
              "      <td>494</td>\n",
              "      <td>48000</td>\n",
              "      <td>1</td>\n",
              "      <td>0</td>\n",
              "      <td>0</td>\n",
              "      <td>1</td>\n",
              "    </tr>\n",
              "    <tr>\n",
              "      <th>1</th>\n",
              "      <td>20.5462</td>\n",
              "      <td>69.14</td>\n",
              "      <td>0.531</td>\n",
              "      <td>35668.655</td>\n",
              "      <td>152.4</td>\n",
              "      <td>7.505</td>\n",
              "      <td>7.650</td>\n",
              "      <td>7.440</td>\n",
              "      <td>7.470</td>\n",
              "      <td>7.44</td>\n",
              "      <td>494055</td>\n",
              "      <td>146.64</td>\n",
              "      <td>243.456</td>\n",
              "      <td>42</td>\n",
              "      <td>462</td>\n",
              "      <td>43200</td>\n",
              "      <td>0</td>\n",
              "      <td>0</td>\n",
              "      <td>1</td>\n",
              "      <td>0</td>\n",
              "    </tr>\n",
              "    <tr>\n",
              "      <th>2</th>\n",
              "      <td>20.5458</td>\n",
              "      <td>69.14</td>\n",
              "      <td>0.531</td>\n",
              "      <td>39912.675</td>\n",
              "      <td>134.6</td>\n",
              "      <td>7.485</td>\n",
              "      <td>7.570</td>\n",
              "      <td>7.495</td>\n",
              "      <td>7.515</td>\n",
              "      <td>7.44</td>\n",
              "      <td>547051</td>\n",
              "      <td>147.88</td>\n",
              "      <td>2022.400</td>\n",
              "      <td>38</td>\n",
              "      <td>458</td>\n",
              "      <td>69400</td>\n",
              "      <td>0</td>\n",
              "      <td>1</td>\n",
              "      <td>0</td>\n",
              "      <td>0</td>\n",
              "    </tr>\n",
              "    <tr>\n",
              "      <th>3</th>\n",
              "      <td>20.6474</td>\n",
              "      <td>59.36</td>\n",
              "      <td>0.542</td>\n",
              "      <td>38873.890</td>\n",
              "      <td>119.3</td>\n",
              "      <td>6.895</td>\n",
              "      <td>7.035</td>\n",
              "      <td>6.920</td>\n",
              "      <td>7.020</td>\n",
              "      <td>8.26</td>\n",
              "      <td>516279</td>\n",
              "      <td>185.36</td>\n",
              "      <td>225.344</td>\n",
              "      <td>45</td>\n",
              "      <td>472</td>\n",
              "      <td>66800</td>\n",
              "      <td>1</td>\n",
              "      <td>0</td>\n",
              "      <td>1</td>\n",
              "      <td>0</td>\n",
              "    </tr>\n",
              "    <tr>\n",
              "      <th>4</th>\n",
              "      <td>21.3810</td>\n",
              "      <td>59.36</td>\n",
              "      <td>0.542</td>\n",
              "      <td>39701.585</td>\n",
              "      <td>127.7</td>\n",
              "      <td>6.920</td>\n",
              "      <td>7.070</td>\n",
              "      <td>6.815</td>\n",
              "      <td>7.070</td>\n",
              "      <td>8.26</td>\n",
              "      <td>531448</td>\n",
              "      <td>176.48</td>\n",
              "      <td>225.792</td>\n",
              "      <td>55</td>\n",
              "      <td>395</td>\n",
              "      <td>72400</td>\n",
              "      <td>0</td>\n",
              "      <td>0</td>\n",
              "      <td>1</td>\n",
              "      <td>0</td>\n",
              "    </tr>\n",
              "  </tbody>\n",
              "</table>\n",
              "</div>"
            ],
            "text/plain": [
              "   Marketing expense  Production expense  ...  Genre_Drama  Genre_Thriller\n",
              "0            20.1264               59.62  ...            0               1\n",
              "1            20.5462               69.14  ...            1               0\n",
              "2            20.5458               69.14  ...            0               0\n",
              "3            20.6474               59.36  ...            1               0\n",
              "4            21.3810               59.36  ...            1               0\n",
              "\n",
              "[5 rows x 20 columns]"
            ]
          },
          "metadata": {
            "tags": []
          },
          "execution_count": 12
        }
      ]
    },
    {
      "cell_type": "code",
      "metadata": {
        "id": "kBTMN0aSJ4vz",
        "outputId": "bf2cf183-6b08-4e7f-ca1e-cd70a0fdfc39",
        "colab": {
          "base_uri": "https://localhost:8080/",
          "height": 0
        }
      },
      "source": [
        "X.shape"
      ],
      "execution_count": 13,
      "outputs": [
        {
          "output_type": "execute_result",
          "data": {
            "text/plain": [
              "(506, 20)"
            ]
          },
          "metadata": {
            "tags": []
          },
          "execution_count": 13
        }
      ]
    },
    {
      "cell_type": "code",
      "metadata": {
        "id": "o1A3C4ZVJ4v2",
        "outputId": "c768e9b2-94ed-4798-9a4c-28286d3a96a9",
        "colab": {
          "base_uri": "https://localhost:8080/",
          "height": 0
        }
      },
      "source": [
        "y = df[\"Start_Tech_Oscar\"]\n",
        "type(y)"
      ],
      "execution_count": 14,
      "outputs": [
        {
          "output_type": "execute_result",
          "data": {
            "text/plain": [
              "pandas.core.series.Series"
            ]
          },
          "metadata": {
            "tags": []
          },
          "execution_count": 14
        }
      ]
    },
    {
      "cell_type": "code",
      "metadata": {
        "id": "j4gSP51jJ4v5",
        "outputId": "d1ba8882-399b-40b3-a569-41726902dda7",
        "colab": {
          "base_uri": "https://localhost:8080/",
          "height": 0
        }
      },
      "source": [
        "y.head()"
      ],
      "execution_count": 15,
      "outputs": [
        {
          "output_type": "execute_result",
          "data": {
            "text/plain": [
              "0    1\n",
              "1    0\n",
              "2    1\n",
              "3    1\n",
              "4    1\n",
              "Name: Start_Tech_Oscar, dtype: int64"
            ]
          },
          "metadata": {
            "tags": []
          },
          "execution_count": 15
        }
      ]
    },
    {
      "cell_type": "code",
      "metadata": {
        "id": "myz8d9SSJ4v8",
        "outputId": "82df0d4a-78b8-4bbd-84a3-d08678d5e510",
        "colab": {
          "base_uri": "https://localhost:8080/",
          "height": 0
        }
      },
      "source": [
        "y.shape"
      ],
      "execution_count": 16,
      "outputs": [
        {
          "output_type": "execute_result",
          "data": {
            "text/plain": [
              "(506,)"
            ]
          },
          "metadata": {
            "tags": []
          },
          "execution_count": 16
        }
      ]
    },
    {
      "cell_type": "markdown",
      "metadata": {
        "id": "n6wqDtw7J4v_"
      },
      "source": [
        "### Test-Train Split"
      ]
    },
    {
      "cell_type": "code",
      "metadata": {
        "id": "U-Qetvu8J4v_"
      },
      "source": [
        "from sklearn.model_selection import train_test_split"
      ],
      "execution_count": 17,
      "outputs": []
    },
    {
      "cell_type": "code",
      "metadata": {
        "id": "f4xesY0_J4wC"
      },
      "source": [
        "X_train, X_test, y_train, y_test = train_test_split(X, y,test_size=0.2,random_state=0)"
      ],
      "execution_count": 18,
      "outputs": []
    },
    {
      "cell_type": "code",
      "metadata": {
        "id": "yD60TPitJ4wF",
        "outputId": "8da48f74-b116-4f41-9ba3-9f85cc67447c",
        "colab": {
          "base_uri": "https://localhost:8080/",
          "height": 232
        }
      },
      "source": [
        "X_train.head()"
      ],
      "execution_count": 19,
      "outputs": [
        {
          "output_type": "execute_result",
          "data": {
            "text/html": [
              "<div>\n",
              "<style scoped>\n",
              "    .dataframe tbody tr th:only-of-type {\n",
              "        vertical-align: middle;\n",
              "    }\n",
              "\n",
              "    .dataframe tbody tr th {\n",
              "        vertical-align: top;\n",
              "    }\n",
              "\n",
              "    .dataframe thead th {\n",
              "        text-align: right;\n",
              "    }\n",
              "</style>\n",
              "<table border=\"1\" class=\"dataframe\">\n",
              "  <thead>\n",
              "    <tr style=\"text-align: right;\">\n",
              "      <th></th>\n",
              "      <th>Marketing expense</th>\n",
              "      <th>Production expense</th>\n",
              "      <th>Multiplex coverage</th>\n",
              "      <th>Budget</th>\n",
              "      <th>Movie_length</th>\n",
              "      <th>Lead_ Actor_Rating</th>\n",
              "      <th>Lead_Actress_rating</th>\n",
              "      <th>Director_rating</th>\n",
              "      <th>Producer_rating</th>\n",
              "      <th>Critic_rating</th>\n",
              "      <th>Trailer_views</th>\n",
              "      <th>Time_taken</th>\n",
              "      <th>Twitter_hastags</th>\n",
              "      <th>Avg_age_actors</th>\n",
              "      <th>Num_multiplex</th>\n",
              "      <th>Collection</th>\n",
              "      <th>3D_available_YES</th>\n",
              "      <th>Genre_Comedy</th>\n",
              "      <th>Genre_Drama</th>\n",
              "      <th>Genre_Thriller</th>\n",
              "    </tr>\n",
              "  </thead>\n",
              "  <tbody>\n",
              "    <tr>\n",
              "      <th>220</th>\n",
              "      <td>27.1618</td>\n",
              "      <td>67.40</td>\n",
              "      <td>0.493</td>\n",
              "      <td>38612.805</td>\n",
              "      <td>162.0</td>\n",
              "      <td>8.485</td>\n",
              "      <td>8.640</td>\n",
              "      <td>8.485</td>\n",
              "      <td>8.670</td>\n",
              "      <td>8.52</td>\n",
              "      <td>480270</td>\n",
              "      <td>174.68</td>\n",
              "      <td>224.272</td>\n",
              "      <td>23</td>\n",
              "      <td>536</td>\n",
              "      <td>53400</td>\n",
              "      <td>0</td>\n",
              "      <td>0</td>\n",
              "      <td>0</td>\n",
              "      <td>1</td>\n",
              "    </tr>\n",
              "    <tr>\n",
              "      <th>71</th>\n",
              "      <td>23.1752</td>\n",
              "      <td>76.62</td>\n",
              "      <td>0.587</td>\n",
              "      <td>33113.355</td>\n",
              "      <td>91.0</td>\n",
              "      <td>7.280</td>\n",
              "      <td>7.400</td>\n",
              "      <td>7.290</td>\n",
              "      <td>7.455</td>\n",
              "      <td>8.16</td>\n",
              "      <td>491978</td>\n",
              "      <td>200.68</td>\n",
              "      <td>263.472</td>\n",
              "      <td>46</td>\n",
              "      <td>400</td>\n",
              "      <td>43400</td>\n",
              "      <td>0</td>\n",
              "      <td>0</td>\n",
              "      <td>0</td>\n",
              "      <td>0</td>\n",
              "    </tr>\n",
              "    <tr>\n",
              "      <th>240</th>\n",
              "      <td>22.2658</td>\n",
              "      <td>64.86</td>\n",
              "      <td>0.572</td>\n",
              "      <td>38312.835</td>\n",
              "      <td>127.8</td>\n",
              "      <td>6.755</td>\n",
              "      <td>6.935</td>\n",
              "      <td>6.800</td>\n",
              "      <td>6.840</td>\n",
              "      <td>8.68</td>\n",
              "      <td>470107</td>\n",
              "      <td>204.80</td>\n",
              "      <td>224.320</td>\n",
              "      <td>24</td>\n",
              "      <td>387</td>\n",
              "      <td>54000</td>\n",
              "      <td>1</td>\n",
              "      <td>1</td>\n",
              "      <td>0</td>\n",
              "      <td>0</td>\n",
              "    </tr>\n",
              "    <tr>\n",
              "      <th>6</th>\n",
              "      <td>21.7658</td>\n",
              "      <td>70.74</td>\n",
              "      <td>0.476</td>\n",
              "      <td>33396.660</td>\n",
              "      <td>140.1</td>\n",
              "      <td>7.065</td>\n",
              "      <td>7.265</td>\n",
              "      <td>7.150</td>\n",
              "      <td>7.400</td>\n",
              "      <td>8.96</td>\n",
              "      <td>459241</td>\n",
              "      <td>139.16</td>\n",
              "      <td>243.664</td>\n",
              "      <td>41</td>\n",
              "      <td>522</td>\n",
              "      <td>45800</td>\n",
              "      <td>1</td>\n",
              "      <td>0</td>\n",
              "      <td>0</td>\n",
              "      <td>1</td>\n",
              "    </tr>\n",
              "    <tr>\n",
              "      <th>417</th>\n",
              "      <td>538.8120</td>\n",
              "      <td>91.20</td>\n",
              "      <td>0.321</td>\n",
              "      <td>29463.720</td>\n",
              "      <td>162.6</td>\n",
              "      <td>9.135</td>\n",
              "      <td>9.305</td>\n",
              "      <td>9.095</td>\n",
              "      <td>9.165</td>\n",
              "      <td>6.96</td>\n",
              "      <td>302776</td>\n",
              "      <td>172.16</td>\n",
              "      <td>301.664</td>\n",
              "      <td>60</td>\n",
              "      <td>589</td>\n",
              "      <td>20800</td>\n",
              "      <td>1</td>\n",
              "      <td>0</td>\n",
              "      <td>0</td>\n",
              "      <td>0</td>\n",
              "    </tr>\n",
              "  </tbody>\n",
              "</table>\n",
              "</div>"
            ],
            "text/plain": [
              "     Marketing expense  Production expense  ...  Genre_Drama  Genre_Thriller\n",
              "220            27.1618               67.40  ...            0               1\n",
              "71             23.1752               76.62  ...            0               0\n",
              "240            22.2658               64.86  ...            0               0\n",
              "6              21.7658               70.74  ...            0               1\n",
              "417           538.8120               91.20  ...            0               0\n",
              "\n",
              "[5 rows x 20 columns]"
            ]
          },
          "metadata": {
            "tags": []
          },
          "execution_count": 19
        }
      ]
    },
    {
      "cell_type": "code",
      "metadata": {
        "id": "pKgZ8_xNJ4wI",
        "outputId": "3a03d3c5-fe7f-47d7-8355-2d97aa4a75ea",
        "colab": {
          "base_uri": "https://localhost:8080/",
          "height": 0
        }
      },
      "source": [
        "X_train.shape"
      ],
      "execution_count": 20,
      "outputs": [
        {
          "output_type": "execute_result",
          "data": {
            "text/plain": [
              "(404, 20)"
            ]
          },
          "metadata": {
            "tags": []
          },
          "execution_count": 20
        }
      ]
    },
    {
      "cell_type": "code",
      "metadata": {
        "id": "yqlA1tzAJ4wK",
        "outputId": "8070421c-950a-4238-d5b9-eb39e0c923eb",
        "colab": {
          "base_uri": "https://localhost:8080/",
          "height": 0
        }
      },
      "source": [
        "X_test.shape"
      ],
      "execution_count": 21,
      "outputs": [
        {
          "output_type": "execute_result",
          "data": {
            "text/plain": [
              "(102, 20)"
            ]
          },
          "metadata": {
            "tags": []
          },
          "execution_count": 21
        }
      ]
    },
    {
      "cell_type": "markdown",
      "metadata": {
        "id": "LYHdyqE_J4wN"
      },
      "source": [
        "### Training Classification Tree"
      ]
    },
    {
      "cell_type": "code",
      "metadata": {
        "id": "Jfm_9D4VJ4wO"
      },
      "source": [
        "from sklearn import tree\n",
        "clftree = tree.DecisionTreeClassifier(max_depth = 3)"
      ],
      "execution_count": 22,
      "outputs": []
    },
    {
      "cell_type": "code",
      "metadata": {
        "id": "Zm1vA3CKJ4wQ",
        "outputId": "36581f51-af88-4fd6-b31b-bb54b57731c7",
        "colab": {
          "base_uri": "https://localhost:8080/",
          "height": 0
        }
      },
      "source": [
        "clftree.fit(X_train, y_train)"
      ],
      "execution_count": 23,
      "outputs": [
        {
          "output_type": "execute_result",
          "data": {
            "text/plain": [
              "DecisionTreeClassifier(ccp_alpha=0.0, class_weight=None, criterion='gini',\n",
              "                       max_depth=3, max_features=None, max_leaf_nodes=None,\n",
              "                       min_impurity_decrease=0.0, min_impurity_split=None,\n",
              "                       min_samples_leaf=1, min_samples_split=2,\n",
              "                       min_weight_fraction_leaf=0.0, presort='deprecated',\n",
              "                       random_state=None, splitter='best')"
            ]
          },
          "metadata": {
            "tags": []
          },
          "execution_count": 23
        }
      ]
    },
    {
      "cell_type": "markdown",
      "metadata": {
        "id": "A1VMHDe_J4wU"
      },
      "source": [
        "### Predict values using trained model"
      ]
    },
    {
      "cell_type": "code",
      "metadata": {
        "id": "QfCHEVDEJ4wU"
      },
      "source": [
        "y_train_pred = clftree.predict(X_train)\n",
        "y_test_pred = clftree.predict(X_test)"
      ],
      "execution_count": 24,
      "outputs": []
    },
    {
      "cell_type": "code",
      "metadata": {
        "id": "jbhrjk0EJ4wX",
        "outputId": "85de6463-340f-47aa-9a33-a649752ee834",
        "colab": {
          "base_uri": "https://localhost:8080/",
          "height": 0
        }
      },
      "source": [
        "y_test_pred"
      ],
      "execution_count": 25,
      "outputs": [
        {
          "output_type": "execute_result",
          "data": {
            "text/plain": [
              "array([0, 1, 0, 1, 0, 0, 0, 0, 1, 0, 0, 0, 0, 1, 1, 0, 0, 1, 0, 0, 0, 0,\n",
              "       0, 0, 0, 1, 0, 0, 1, 0, 0, 0, 0, 0, 0, 0, 0, 1, 0, 0, 0, 0, 0, 1,\n",
              "       0, 0, 0, 0, 1, 0, 0, 0, 0, 1, 0, 0, 0, 1, 0, 0, 1, 0, 1, 0, 0, 0,\n",
              "       0, 0, 0, 0, 0, 0, 0, 0, 0, 1, 1, 0, 0, 0, 0, 0, 0, 1, 1, 0, 0, 0,\n",
              "       0, 0, 0, 0, 1, 0, 0, 0, 1, 1, 0, 0, 0, 0])"
            ]
          },
          "metadata": {
            "tags": []
          },
          "execution_count": 25
        }
      ]
    },
    {
      "cell_type": "markdown",
      "metadata": {
        "id": "eUXvQ57XJ4wZ"
      },
      "source": [
        "### Model Performance"
      ]
    },
    {
      "cell_type": "code",
      "metadata": {
        "id": "eSkXPXxiJ4wa"
      },
      "source": [
        "from sklearn.metrics import accuracy_score, confusion_matrix"
      ],
      "execution_count": 26,
      "outputs": []
    },
    {
      "cell_type": "code",
      "metadata": {
        "id": "zNnQZxmVJ4wd",
        "outputId": "e39c4fb9-108d-417a-bddc-871ce6393f02",
        "colab": {
          "base_uri": "https://localhost:8080/",
          "height": 0
        }
      },
      "source": [
        "confusion_matrix(y_train, y_train_pred)"
      ],
      "execution_count": 27,
      "outputs": [
        {
          "output_type": "execute_result",
          "data": {
            "text/plain": [
              "array([[172,  14],\n",
              "       [126,  92]])"
            ]
          },
          "metadata": {
            "tags": []
          },
          "execution_count": 27
        }
      ]
    },
    {
      "cell_type": "code",
      "metadata": {
        "id": "PgfTpJI2J4wg",
        "outputId": "22800ce1-9ce8-4011-a64f-5bbdbe522b74",
        "colab": {
          "base_uri": "https://localhost:8080/",
          "height": 0
        }
      },
      "source": [
        "confusion_matrix(y_test, y_test_pred)"
      ],
      "execution_count": 28,
      "outputs": [
        {
          "output_type": "execute_result",
          "data": {
            "text/plain": [
              "array([[39,  5],\n",
              "       [41, 17]])"
            ]
          },
          "metadata": {
            "tags": []
          },
          "execution_count": 28
        }
      ]
    },
    {
      "cell_type": "code",
      "metadata": {
        "id": "D684RSfhJ4wi",
        "outputId": "c87bf0a6-4907-458f-d71b-3f42350fbd3e",
        "colab": {
          "base_uri": "https://localhost:8080/",
          "height": 0
        }
      },
      "source": [
        "accuracy_score(y_test, y_test_pred)"
      ],
      "execution_count": 29,
      "outputs": [
        {
          "output_type": "execute_result",
          "data": {
            "text/plain": [
              "0.5490196078431373"
            ]
          },
          "metadata": {
            "tags": []
          },
          "execution_count": 29
        }
      ]
    },
    {
      "cell_type": "markdown",
      "metadata": {
        "id": "ncdt1IcZJ4wo"
      },
      "source": [
        "### Plotting decision tree"
      ]
    },
    {
      "cell_type": "code",
      "metadata": {
        "id": "ENewt96eJ4wp"
      },
      "source": [
        "dot_data = tree.export_graphviz(clftree, out_file=None,feature_names= X_train.columns, filled = True)"
      ],
      "execution_count": 30,
      "outputs": []
    },
    {
      "cell_type": "code",
      "metadata": {
        "id": "xG7-avZ9J4wu"
      },
      "source": [
        "from IPython.display import Image"
      ],
      "execution_count": 31,
      "outputs": []
    },
    {
      "cell_type": "code",
      "metadata": {
        "id": "xAs71Q3rJ4wy"
      },
      "source": [
        "import pydotplus"
      ],
      "execution_count": 32,
      "outputs": []
    },
    {
      "cell_type": "code",
      "metadata": {
        "id": "_9NGTJvrJ4w3",
        "outputId": "b88e3c49-5b1a-4d84-d521-ebd76044cf0d",
        "colab": {
          "base_uri": "https://localhost:8080/",
          "height": 448
        }
      },
      "source": [
        "graph = pydotplus.graph_from_dot_data(dot_data)\n",
        "Image(graph.create_png())"
      ],
      "execution_count": 33,
      "outputs": [
        {
          "output_type": "execute_result",
          "data": {
            "image/png": "[encoded data removed]",
            "text/plain": [
              "<IPython.core.display.Image object>"
            ]
          },
          "metadata": {
            "tags": []
          },
          "execution_count": 33
        }
      ]
    },
    {
      "cell_type": "markdown",
      "metadata": {
        "id": "SVL_zSyfJ4w5"
      },
      "source": [
        "## Controlling Tree growth"
      ]
    },
    {
      "cell_type": "code",
      "metadata": {
        "id": "WX3ySklnJ4w6",
        "outputId": "8fff21d2-b9f8-420e-e7ed-0097dcbca011",
        "colab": {
          "base_uri": "https://localhost:8080/",
          "height": 653
        }
      },
      "source": [
        "clftree2 = tree.DecisionTreeClassifier(min_samples_leaf = 20, max_depth=4)\n",
        "clftree2.fit(X_train, y_train)\n",
        "dot_data = tree.export_graphviz(clftree2, out_file=None,feature_names= X_train.columns, filled = True)\n",
        "graph2 = pydotplus.graph_from_dot_data(dot_data)\n",
        "Image(graph2.create_png())"
      ],
      "execution_count": 34,
      "outputs": [
        {
          "output_type": "execute_result",
          "data": {
            "image/png": "[encoded data removed]",
            "text/plain": [
              "<IPython.core.display.Image object>"
            ]
          },
          "metadata": {
            "tags": []
          },
          "execution_count": 34
        }
      ]
    },
    {
      "cell_type": "code",
      "metadata": {
        "id": "3A4bN2hvJ4w8",
        "outputId": "f8e0db7c-1f7d-4925-b4d4-12c02ba25671",
        "colab": {
          "base_uri": "https://localhost:8080/",
          "height": 0
        }
      },
      "source": [
        "accuracy_score(y_test, clftree2.predict(X_test))"
      ],
      "execution_count": 35,
      "outputs": [
        {
          "output_type": "execute_result",
          "data": {
            "text/plain": [
              "0.5588235294117647"
            ]
          },
          "metadata": {
            "tags": []
          },
          "execution_count": 35
        }
      ]
    },
    {
      "cell_type": "markdown",
      "metadata": {
        "id": "4Dy0gmI1J4xP"
      },
      "source": [
        "**Random Forest**"
      ]
    },
    {
      "cell_type": "code",
      "metadata": {
        "id": "lCT6OX2yJ4xQ"
      },
      "source": [
        "from sklearn.ensemble import RandomForestClassifier"
      ],
      "execution_count": 36,
      "outputs": []
    },
    {
      "cell_type": "code",
      "metadata": {
        "id": "cdiEZHiJJ4xT"
      },
      "source": [
        "rf_clf = RandomForestClassifier(n_estimators=1000, n_jobs=-1 ,random_state=42)"
      ],
      "execution_count": 37,
      "outputs": []
    },
    {
      "cell_type": "code",
      "metadata": {
        "id": "dyDU1Ip2J4xW",
        "outputId": "c66a2e5e-cb82-4cad-d07d-1641db5c28a8",
        "colab": {
          "base_uri": "https://localhost:8080/",
          "height": 0
        }
      },
      "source": [
        "rf_clf.fit(X_train, y_train)"
      ],
      "execution_count": 38,
      "outputs": [
        {
          "output_type": "execute_result",
          "data": {
            "text/plain": [
              "RandomForestClassifier(bootstrap=True, ccp_alpha=0.0, class_weight=None,\n",
              "                       criterion='gini', max_depth=None, max_features='auto',\n",
              "                       max_leaf_nodes=None, max_samples=None,\n",
              "                       min_impurity_decrease=0.0, min_impurity_split=None,\n",
              "                       min_samples_leaf=1, min_samples_split=2,\n",
              "                       min_weight_fraction_leaf=0.0, n_estimators=1000,\n",
              "                       n_jobs=-1, oob_score=False, random_state=42, verbose=0,\n",
              "                       warm_start=False)"
            ]
          },
          "metadata": {
            "tags": []
          },
          "execution_count": 38
        }
      ]
    },
    {
      "cell_type": "code",
      "metadata": {
        "id": "ItziNxTtJ4xZ",
        "outputId": "b57aa11c-e677-4d06-847e-894a0d1d8bad",
        "colab": {
          "base_uri": "https://localhost:8080/",
          "height": 0
        }
      },
      "source": [
        "confusion_matrix(y_test, rf_clf.predict(X_test))"
      ],
      "execution_count": 39,
      "outputs": [
        {
          "output_type": "execute_result",
          "data": {
            "text/plain": [
              "array([[25, 19],\n",
              "       [18, 40]])"
            ]
          },
          "metadata": {
            "tags": []
          },
          "execution_count": 39
        }
      ]
    },
    {
      "cell_type": "code",
      "metadata": {
        "id": "UJbm7hPQJ4xc",
        "outputId": "7116baeb-194a-4f31-8810-1e9e9fbd9eb5",
        "colab": {
          "base_uri": "https://localhost:8080/",
          "height": 0
        }
      },
      "source": [
        "accuracy_score(y_test, rf_clf.predict(X_test))"
      ],
      "execution_count": 40,
      "outputs": [
        {
          "output_type": "execute_result",
          "data": {
            "text/plain": [
              "0.6372549019607843"
            ]
          },
          "metadata": {
            "tags": []
          },
          "execution_count": 40
        }
      ]
    }
  ]
}