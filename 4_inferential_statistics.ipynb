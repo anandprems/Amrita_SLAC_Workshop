{
  "nbformat": 4,
  "nbformat_minor": 0,
  "metadata": {
    "colab": {
      "name": "4_inferential_statistics.ipynb",
      "provenance": []
    },
    "kernelspec": {
      "name": "python3",
      "display_name": "Python 3"
    }
  },
  "cells": [
    {
      "cell_type": "markdown",
      "metadata": {
        "id": "afIwZNgkDUnK"
      },
      "source": [
        "**Inferential Statistics**"
      ]
    },
    {
      "cell_type": "markdown",
      "metadata": {
        "id": "c8MRIdElBhvm"
      },
      "source": [
        "1. Inferential statistics are concerned with making inferences based on relations found in the sample, to relations in the population.\n",
        "2. Inferential statistics help us decide, for example, whether the differences between groups that we see in our data are strong enough to provide support for our hypothesis that group differences exist in general, in the entire population."
      ]
    },
    {
      "cell_type": "code",
      "metadata": {
        "id": "IUEja6tkBoJx"
      },
      "source": [
        "#importing basic libraries\n",
        "import numpy as np \n",
        "import pandas as pd\n",
        "import matplotlib.pyplot as plt\n",
        "%matplotlib inline"
      ],
      "execution_count": null,
      "outputs": []
    },
    {
      "cell_type": "code",
      "metadata": {
        "id": "0eUSth3EBtuL"
      },
      "source": [
        "population = np.random.randint(10, 20, 1000)\n",
        "\n",
        "np.random.seed(10)\n",
        "\n",
        "estimates = []\n",
        "\n",
        "for x in range(200):\n",
        "  sample = np.random.choice(a = population, size=100)\n",
        "  estimates.append( sample.mean())"
      ],
      "execution_count": null,
      "outputs": []
    },
    {
      "cell_type": "code",
      "metadata": {
        "id": "2hSZ1oxSCWJU",
        "outputId": "ec0ce9db-a0ec-431b-e658-ca65f2d13aea",
        "colab": {
          "base_uri": "https://localhost:8080/"
        }
      },
      "source": [
        "np.mean(population)"
      ],
      "execution_count": null,
      "outputs": [
        {
          "output_type": "execute_result",
          "data": {
            "text/plain": [
              "14.516"
            ]
          },
          "metadata": {
            "tags": []
          },
          "execution_count": 3
        }
      ]
    },
    {
      "cell_type": "code",
      "metadata": {
        "id": "8fioWa44Cany",
        "outputId": "ca56ee14-74fb-46df-d3e9-b9b5cef08bdd",
        "colab": {
          "base_uri": "https://localhost:8080/",
          "height": 285
        }
      },
      "source": [
        "#how data is distributed\n",
        "pd.DataFrame(estimates).plot(kind=\"density\")"
      ],
      "execution_count": null,
      "outputs": [
        {
          "output_type": "execute_result",
          "data": {
            "text/plain": [
              "<matplotlib.axes._subplots.AxesSubplot at 0x7f69016ef9b0>"
            ]
          },
          "metadata": {
            "tags": []
          },
          "execution_count": 4
        },
        {
          "output_type": "display_data",
          "data": {
            "image/png": "[encoded data removed]",
            "text/plain": [
              "<Figure size 432x288 with 1 Axes>"
            ]
          },
          "metadata": {
            "tags": [],
            "needs_background": "light"
          }
        }
      ]
    },
    {
      "cell_type": "markdown",
      "metadata": {
        "id": "DHkkHTGGEp-i"
      },
      "source": [
        "**Point of estimations**"
      ]
    },
    {
      "cell_type": "markdown",
      "metadata": {
        "id": "0rRaI8VVB6y7"
      },
      "source": [
        "the process of finding an approximate value of some parameter—such as the mean (average)—of a population from random samples of the population."
      ]
    },
    {
      "cell_type": "markdown",
      "metadata": {
        "id": "rNxrUBl1EIsH"
      },
      "source": [
        "A Confidence Interval is a range of values we are fairly sure our true value lies in.\n",
        "\n"
      ]
    },
    {
      "cell_type": "markdown",
      "metadata": {
        "id": "FUxCZlFXEvUt"
      },
      "source": [
        "1. **confidence intervel** = (sample mean - margin error (lower limit), sample mean + margin error (upper limit))\n",
        "2. **Margin of error** = (critical value) * ((Standard Deviation) / (Sample size) ^(0.5))"
      ]
    },
    {
      "cell_type": "code",
      "metadata": {
        "id": "mpboLPAlEgCs",
        "outputId": "e9831dc3-c249-4614-bbf0-c17bbea473c6",
        "colab": {
          "base_uri": "https://localhost:8080/"
        }
      },
      "source": [
        "#for finding critical value\n",
        "import scipy.stats as stats\n",
        "#percent point function (ppf)\n",
        "z_critical = stats.norm.ppf(q=0.975)\n",
        "z_critical"
      ],
      "execution_count": null,
      "outputs": [
        {
          "output_type": "execute_result",
          "data": {
            "text/plain": [
              "1.959963984540054"
            ]
          },
          "metadata": {
            "tags": []
          },
          "execution_count": 5
        }
      ]
    },
    {
      "cell_type": "code",
      "metadata": {
        "id": "X8a2ZFLDG3iO",
        "outputId": "acaba56e-34de-4036-f985-fefe7c81dab9",
        "colab": {
          "base_uri": "https://localhost:8080/"
        }
      },
      "source": [
        "#degree of freedom\n",
        "t_critical = stats.t.ppf(q=0.975, df=24)\n",
        "t_critical"
      ],
      "execution_count": null,
      "outputs": [
        {
          "output_type": "execute_result",
          "data": {
            "text/plain": [
              "2.0638985616280205"
            ]
          },
          "metadata": {
            "tags": []
          },
          "execution_count": 6
        }
      ]
    },
    {
      "cell_type": "code",
      "metadata": {
        "id": "j8eHKNYqHHqh",
        "outputId": "554016c8-a1ce-4192-c0fd-ac3d1d5b624c",
        "colab": {
          "base_uri": "https://localhost:8080/"
        }
      },
      "source": [
        "margin_of_error = z_critical * (np.std(estimates)/np.sqrt(200))\n",
        "margin_of_error"
      ],
      "execution_count": null,
      "outputs": [
        {
          "output_type": "execute_result",
          "data": {
            "text/plain": [
              "0.03708648336611124"
            ]
          },
          "metadata": {
            "tags": []
          },
          "execution_count": 7
        }
      ]
    },
    {
      "cell_type": "code",
      "metadata": {
        "id": "GobN95uuHiaw",
        "outputId": "5b9a29a6-623f-4a70-a6d0-4354b4e52994",
        "colab": {
          "base_uri": "https://localhost:8080/"
        }
      },
      "source": [
        "#lower limit\n",
        "np.mean(estimates) - margin_of_error"
      ],
      "execution_count": null,
      "outputs": [
        {
          "output_type": "execute_result",
          "data": {
            "text/plain": [
              "14.440013516633888"
            ]
          },
          "metadata": {
            "tags": []
          },
          "execution_count": 8
        }
      ]
    },
    {
      "cell_type": "code",
      "metadata": {
        "id": "T6nGv0ctHpyc",
        "outputId": "8d698323-e1ed-4514-90f1-d3c8ba0ad5d6",
        "colab": {
          "base_uri": "https://localhost:8080/"
        }
      },
      "source": [
        "#upper limit\n",
        "np.mean(estimates) + margin_of_error"
      ],
      "execution_count": null,
      "outputs": [
        {
          "output_type": "execute_result",
          "data": {
            "text/plain": [
              "14.514186483366112"
            ]
          },
          "metadata": {
            "tags": []
          },
          "execution_count": 9
        }
      ]
    }
  ]
}